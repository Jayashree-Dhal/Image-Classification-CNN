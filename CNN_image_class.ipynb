{
  "nbformat": 4,
  "nbformat_minor": 0,
  "metadata": {
    "accelerator": "GPU",
    "colab": {
      "name": "CNN_image_class.ipynb",
      "provenance": []
    },
    "kernelspec": {
      "display_name": "Python 3",
      "language": "python",
      "name": "python3"
    },
    "language_info": {
      "codemirror_mode": {
        "name": "ipython",
        "version": 3
      },
      "file_extension": ".py",
      "mimetype": "text/x-python",
      "name": "python",
      "nbconvert_exporter": "python",
      "pygments_lexer": "ipython3",
      "version": "3.7.3"
    },
    "toc": {
      "base_numbering": 1,
      "nav_menu": {},
      "number_sections": true,
      "sideBar": true,
      "skip_h1_title": false,
      "title_cell": "Table of Contents",
      "title_sidebar": "Contents",
      "toc_cell": false,
      "toc_position": {},
      "toc_section_display": true,
      "toc_window_display": false
    }
  },
  "cells": [
    {
      "cell_type": "code",
      "metadata": {
        "ExecuteTime": {
          "end_time": "2019-11-07T16:12:49.256161Z",
          "start_time": "2019-11-07T16:12:40.854271Z"
        },
        "colab_type": "code",
        "id": "NMaeJ-32OZHZ",
        "colab": {},
        "outputId": "985c7cb6-2be6-479d-d51d-270e6ffbf158"
      },
      "source": [
        "import numpy as np\n",
        "import keras\n",
        "from keras import backend as K\n",
        "from keras.layers import Activation\n",
        "from keras.layers.core import Dense, Flatten\n",
        "from keras.optimizers import Adam\n",
        "from keras.metrics import categorical_crossentropy\n",
        "from keras.preprocessing.image import ImageDataGenerator\n",
        "from keras.layers.normalization import BatchNormalization\n",
        "from keras.layers.convolutional import *\n",
        "from matplotlib import pyplot as plt\n",
        "from sklearn.metrics import confusion_matrix\n",
        "import itertools\n",
        "import matplotlib.pyplot as plt\n",
        "%matplotlib inline"
      ],
      "execution_count": null,
      "outputs": [
        {
          "output_type": "stream",
          "text": [
            "Using TensorFlow backend.\n"
          ],
          "name": "stderr"
        }
      ]
    },
    {
      "cell_type": "code",
      "metadata": {
        "ExecuteTime": {
          "end_time": "2019-11-07T16:12:50.538862Z",
          "start_time": "2019-11-07T16:12:50.533405Z"
        },
        "colab_type": "code",
        "id": "IxVYjPCYOZHi",
        "colab": {}
      },
      "source": [
        "train_path=\"train\"\n",
        "valid_path='valid'\n",
        "test_path='test'"
      ],
      "execution_count": null,
      "outputs": []
    },
    {
      "cell_type": "code",
      "metadata": {
        "ExecuteTime": {
          "end_time": "2019-11-07T16:12:52.217303Z",
          "start_time": "2019-11-07T16:12:52.210359Z"
        },
        "colab_type": "code",
        "id": "8A7iwoQgOZH2",
        "colab": {}
      },
      "source": [
        "from keras.models import Sequential"
      ],
      "execution_count": null,
      "outputs": []
    },
    {
      "cell_type": "code",
      "metadata": {
        "ExecuteTime": {
          "end_time": "2019-11-07T16:12:53.184139Z",
          "start_time": "2019-11-07T16:12:53.176699Z"
        },
        "colab_type": "code",
        "id": "ddCEYcDTOZH6",
        "colab": {}
      },
      "source": [
        "from keras.layers.core import Flatten, Dense, Dropout\n",
        "from keras.layers.convolutional import Convolution2D, MaxPooling2D, ZeroPadding2D"
      ],
      "execution_count": null,
      "outputs": []
    },
    {
      "cell_type": "code",
      "metadata": {
        "ExecuteTime": {
          "end_time": "2019-11-07T16:13:43.098200Z",
          "start_time": "2019-11-07T16:13:42.761153Z"
        },
        "colab_type": "code",
        "id": "tEtvtmnrRzpv",
        "colab": {
          "base_uri": "https://localhost:8080/",
          "height": 69
        },
        "outputId": "e8eb4edb-834e-481c-87d5-80e4c5b6a8fb"
      },
      "source": [
        "train_batches = ImageDataGenerator(width_shift_range=0.1, height_shift_range=0.1, horizontal_flip=True, vertical_flip=True, rescale=1/255., shear_range=0.1, rotation_range= 30).flow_from_directory(train_path, target_size=(224,224), classes=['Email','Memo','News','Report','Resume'], batch_size=32)\n",
        "valid_batches = ImageDataGenerator(width_shift_range=0.1, height_shift_range=0.1, horizontal_flip=True, vertical_flip=True, rescale=1/255., shear_range=0.1, rotation_range= 20).flow_from_directory(valid_path, target_size=(224,224), classes=['Email','Memo','News','Report','Resume'], batch_size=32)\n",
        "test_batches = ImageDataGenerator(rescale=1/255.).flow_from_directory(test_path, target_size=(224,224), classes=['Email','Memo','News','Report','Resume'], batch_size=10)"
      ],
      "execution_count": null,
      "outputs": [
        {
          "output_type": "stream",
          "text": [
            "Found 100 images belonging to 5 classes.\n",
            "Found 15 images belonging to 5 classes.\n",
            "Found 10 images belonging to 5 classes.\n"
          ],
          "name": "stdout"
        }
      ]
    },
    {
      "cell_type": "code",
      "metadata": {
        "ExecuteTime": {
          "end_time": "2019-11-07T16:14:25.494743Z",
          "start_time": "2019-11-07T16:14:25.488779Z"
        },
        "colab_type": "code",
        "id": "91ZP3gQ3POMU",
        "colab": {}
      },
      "source": [
        "from keras.applications import VGG16\n",
        "from keras import layers, models, backend as K"
      ],
      "execution_count": null,
      "outputs": []
    },
    {
      "cell_type": "code",
      "metadata": {
        "ExecuteTime": {
          "end_time": "2019-11-07T16:14:30.930136Z",
          "start_time": "2019-11-07T16:14:29.550487Z"
        },
        "colab_type": "code",
        "id": "VAf7p0d2POad",
        "colab": {},
        "outputId": "c497a92f-1cd8-471e-ce80-50b3c6f1c4f5"
      },
      "source": [
        "K.clear_session()\n",
        "base_model = VGG16(include_top=False, weights='imagenet',input_shape=(224,224,3))"
      ],
      "execution_count": null,
      "outputs": [
        {
          "output_type": "stream",
          "text": [
            "WARNING:tensorflow:From C:\\Users\\91828\\Anaconda3\\lib\\site-packages\\keras\\backend\\tensorflow_backend.py:4070: The name tf.nn.max_pool is deprecated. Please use tf.nn.max_pool2d instead.\n",
            "\n"
          ],
          "name": "stdout"
        }
      ]
    },
    {
      "cell_type": "code",
      "metadata": {
        "ExecuteTime": {
          "end_time": "2019-11-07T16:15:14.839034Z",
          "start_time": "2019-11-07T16:15:14.834076Z"
        },
        "colab_type": "code",
        "id": "cE_5YjSGPOej",
        "colab": {}
      },
      "source": [
        "for l in base_model.layers:\n",
        "  l.trainable = False"
      ],
      "execution_count": null,
      "outputs": []
    },
    {
      "cell_type": "code",
      "metadata": {
        "ExecuteTime": {
          "end_time": "2019-11-07T16:15:39.316155Z",
          "start_time": "2019-11-07T16:15:38.802119Z"
        },
        "colab_type": "code",
        "id": "bwev3r37QRVV",
        "colab": {
          "base_uri": "https://localhost:8080/",
          "height": 1000
        },
        "outputId": "395a2810-f1dd-49d2-db2a-bf9a37eb4be2"
      },
      "source": [
        "x = layers.Flatten()(base_model.output)\n",
        "x = layers.BatchNormalization()(x)\n",
        "x = layers.Dropout(0.6)(x)\n",
        "x = layers.Dense(200, activation='relu')(x)\n",
        "x = layers.BatchNormalization()(x)\n",
        "x = layers.Dropout(0.4)(x)\n",
        "x = layers.Dense(100, activation='relu')(x)\n",
        "x = layers.BatchNormalization()(x)\n",
        "x = layers.Dropout(0.2)(x)\n",
        "x = layers.Dense(50, activation='relu')(x)\n",
        "out = layers.Dense(5, activation='softmax')(x)\n",
        "model_new = models.Model(base_model.input, out)\n",
        "model_new.summary()"
      ],
      "execution_count": null,
      "outputs": [
        {
          "output_type": "stream",
          "text": [
            "WARNING:tensorflow:Large dropout rate: 0.6 (>0.5). In TensorFlow 2.x, dropout() uses dropout rate instead of keep_prob. Please ensure that this is intended.\n",
            "Model: \"model_1\"\n",
            "_________________________________________________________________\n",
            "Layer (type)                 Output Shape              Param #   \n",
            "=================================================================\n",
            "input_1 (InputLayer)         (None, 224, 224, 3)       0         \n",
            "_________________________________________________________________\n",
            "block1_conv1 (Conv2D)        (None, 224, 224, 64)      1792      \n",
            "_________________________________________________________________\n",
            "block1_conv2 (Conv2D)        (None, 224, 224, 64)      36928     \n",
            "_________________________________________________________________\n",
            "block1_pool (MaxPooling2D)   (None, 112, 112, 64)      0         \n",
            "_________________________________________________________________\n",
            "block2_conv1 (Conv2D)        (None, 112, 112, 128)     73856     \n",
            "_________________________________________________________________\n",
            "block2_conv2 (Conv2D)        (None, 112, 112, 128)     147584    \n",
            "_________________________________________________________________\n",
            "block2_pool (MaxPooling2D)   (None, 56, 56, 128)       0         \n",
            "_________________________________________________________________\n",
            "block3_conv1 (Conv2D)        (None, 56, 56, 256)       295168    \n",
            "_________________________________________________________________\n",
            "block3_conv2 (Conv2D)        (None, 56, 56, 256)       590080    \n",
            "_________________________________________________________________\n",
            "block3_conv3 (Conv2D)        (None, 56, 56, 256)       590080    \n",
            "_________________________________________________________________\n",
            "block3_pool (MaxPooling2D)   (None, 28, 28, 256)       0         \n",
            "_________________________________________________________________\n",
            "block4_conv1 (Conv2D)        (None, 28, 28, 512)       1180160   \n",
            "_________________________________________________________________\n",
            "block4_conv2 (Conv2D)        (None, 28, 28, 512)       2359808   \n",
            "_________________________________________________________________\n",
            "block4_conv3 (Conv2D)        (None, 28, 28, 512)       2359808   \n",
            "_________________________________________________________________\n",
            "block4_pool (MaxPooling2D)   (None, 14, 14, 512)       0         \n",
            "_________________________________________________________________\n",
            "block5_conv1 (Conv2D)        (None, 14, 14, 512)       2359808   \n",
            "_________________________________________________________________\n",
            "block5_conv2 (Conv2D)        (None, 14, 14, 512)       2359808   \n",
            "_________________________________________________________________\n",
            "block5_conv3 (Conv2D)        (None, 14, 14, 512)       2359808   \n",
            "_________________________________________________________________\n",
            "block5_pool (MaxPooling2D)   (None, 7, 7, 512)         0         \n",
            "_________________________________________________________________\n",
            "flatten_1 (Flatten)          (None, 25088)             0         \n",
            "_________________________________________________________________\n",
            "batch_normalization_1 (Batch (None, 25088)             100352    \n",
            "_________________________________________________________________\n",
            "dropout_1 (Dropout)          (None, 25088)             0         \n",
            "_________________________________________________________________\n",
            "dense_1 (Dense)              (None, 200)               5017800   \n",
            "_________________________________________________________________\n",
            "batch_normalization_2 (Batch (None, 200)               800       \n",
            "_________________________________________________________________\n",
            "dropout_2 (Dropout)          (None, 200)               0         \n",
            "_________________________________________________________________\n",
            "dense_2 (Dense)              (None, 100)               20100     \n",
            "_________________________________________________________________\n",
            "batch_normalization_3 (Batch (None, 100)               400       \n",
            "_________________________________________________________________\n",
            "dropout_3 (Dropout)          (None, 100)               0         \n",
            "_________________________________________________________________\n",
            "dense_3 (Dense)              (None, 50)                5050      \n",
            "_________________________________________________________________\n",
            "dense_4 (Dense)              (None, 5)                 255       \n",
            "=================================================================\n",
            "Total params: 19,859,445\n",
            "Trainable params: 5,093,981\n",
            "Non-trainable params: 14,765,464\n",
            "_________________________________________________________________\n"
          ],
          "name": "stdout"
        }
      ]
    },
    {
      "cell_type": "code",
      "metadata": {
        "ExecuteTime": {
          "end_time": "2019-11-07T18:12:50.281943Z",
          "start_time": "2019-11-07T16:15:45.404458Z"
        },
        "colab_type": "code",
        "id": "TWS04nZsRHn4",
        "colab": {
          "base_uri": "https://localhost:8080/",
          "height": 1000
        },
        "outputId": "b14ea106-c770-4ac7-8d03-a4ce00e725b6"
      },
      "source": [
        "model_new.compile(optimizer='rmsprop',loss='categorical_crossentropy', metrics=['acc'])\n",
        "hist = model_new.fit_generator(train_batches, steps_per_epoch=5, validation_data=valid_batches, validation_steps=1, epochs=100, verbose=2)"
      ],
      "execution_count": null,
      "outputs": [
        {
          "output_type": "stream",
          "text": [
            "WARNING:tensorflow:From C:\\Users\\91828\\Anaconda3\\lib\\site-packages\\keras\\backend\\tensorflow_backend.py:422: The name tf.global_variables is deprecated. Please use tf.compat.v1.global_variables instead.\n",
            "\n",
            "Epoch 1/100\n",
            " - 68s - loss: 1.4723 - acc: 0.3750 - val_loss: 1.4626 - val_acc: 0.2667\n",
            "Epoch 2/100\n",
            " - 88s - loss: 1.1366 - acc: 0.5188 - val_loss: 1.4793 - val_acc: 0.3333\n",
            "Epoch 3/100\n",
            " - 59s - loss: 1.2578 - acc: 0.6250 - val_loss: 1.4093 - val_acc: 0.2667\n",
            "Epoch 4/100\n",
            " - 76s - loss: 1.1007 - acc: 0.5758 - val_loss: 1.5120 - val_acc: 0.4000\n",
            "Epoch 5/100\n",
            " - 69s - loss: 0.9022 - acc: 0.6288 - val_loss: 1.3084 - val_acc: 0.4000\n",
            "Epoch 6/100\n",
            " - 55s - loss: 1.0961 - acc: 0.6250 - val_loss: 1.3297 - val_acc: 0.4667\n",
            "Epoch 7/100\n",
            " - 74s - loss: 0.8143 - acc: 0.7121 - val_loss: 1.2242 - val_acc: 0.4000\n",
            "Epoch 8/100\n",
            " - 73s - loss: 0.9285 - acc: 0.6061 - val_loss: 1.4672 - val_acc: 0.4000\n",
            "Epoch 9/100\n",
            " - 68s - loss: 0.9072 - acc: 0.6515 - val_loss: 1.3366 - val_acc: 0.4667\n",
            "Epoch 10/100\n",
            " - 68s - loss: 0.8951 - acc: 0.6970 - val_loss: 1.3990 - val_acc: 0.4000\n",
            "Epoch 11/100\n",
            " - 59s - loss: 0.7810 - acc: 0.7212 - val_loss: 1.3438 - val_acc: 0.4000\n",
            "Epoch 12/100\n",
            " - 73s - loss: 0.7825 - acc: 0.6894 - val_loss: 1.3405 - val_acc: 0.4000\n",
            "Epoch 13/100\n",
            " - 73s - loss: 0.7714 - acc: 0.7121 - val_loss: 1.4104 - val_acc: 0.4000\n",
            "Epoch 14/100\n",
            " - 56s - loss: 0.6756 - acc: 0.8365 - val_loss: 1.3906 - val_acc: 0.4000\n",
            "Epoch 15/100\n",
            " - 71s - loss: 0.6735 - acc: 0.7500 - val_loss: 1.5540 - val_acc: 0.4000\n",
            "Epoch 16/100\n",
            " - 77s - loss: 0.6131 - acc: 0.7273 - val_loss: 1.4191 - val_acc: 0.4000\n",
            "Epoch 17/100\n",
            " - 69s - loss: 0.5570 - acc: 0.8106 - val_loss: 1.5794 - val_acc: 0.4667\n",
            "Epoch 18/100\n",
            " - 55s - loss: 0.4945 - acc: 0.9038 - val_loss: 1.5793 - val_acc: 0.3333\n",
            "Epoch 19/100\n",
            " - 77s - loss: 0.8167 - acc: 0.7348 - val_loss: 1.5118 - val_acc: 0.4000\n",
            "Epoch 20/100\n",
            " - 68s - loss: 0.5485 - acc: 0.7652 - val_loss: 1.4278 - val_acc: 0.4000\n",
            "Epoch 21/100\n",
            " - 67s - loss: 0.6973 - acc: 0.7955 - val_loss: 1.5158 - val_acc: 0.4000\n",
            "Epoch 22/100\n",
            " - 58s - loss: 0.6046 - acc: 0.7788 - val_loss: 1.5463 - val_acc: 0.4667\n",
            "Epoch 23/100\n",
            " - 68s - loss: 0.4119 - acc: 0.8182 - val_loss: 1.4350 - val_acc: 0.4000\n",
            "Epoch 24/100\n",
            " - 68s - loss: 0.4974 - acc: 0.8106 - val_loss: 1.2823 - val_acc: 0.4667\n",
            "Epoch 25/100\n",
            " - 69s - loss: 0.4499 - acc: 0.8636 - val_loss: 1.4865 - val_acc: 0.4667\n",
            "Epoch 26/100\n",
            " - 72s - loss: 0.5373 - acc: 0.8333 - val_loss: 1.5799 - val_acc: 0.4667\n",
            "Epoch 27/100\n",
            " - 73s - loss: 0.4159 - acc: 0.8333 - val_loss: 1.3054 - val_acc: 0.5333\n",
            "Epoch 28/100\n",
            " - 66s - loss: 0.4227 - acc: 0.8750 - val_loss: 1.5977 - val_acc: 0.5333\n",
            "Epoch 29/100\n",
            " - 71s - loss: 0.6014 - acc: 0.8182 - val_loss: 1.4475 - val_acc: 0.5333\n",
            "Epoch 30/100\n",
            " - 70s - loss: 0.4888 - acc: 0.8333 - val_loss: 1.6065 - val_acc: 0.5333\n",
            "Epoch 31/100\n",
            " - 62s - loss: 0.8341 - acc: 0.8654 - val_loss: 1.3113 - val_acc: 0.5333\n",
            "Epoch 32/100\n",
            " - 75s - loss: 0.5610 - acc: 0.8182 - val_loss: 1.1948 - val_acc: 0.6000\n",
            "Epoch 33/100\n",
            " - 56s - loss: 0.3598 - acc: 0.8558 - val_loss: 1.0517 - val_acc: 0.6000\n",
            "Epoch 34/100\n",
            " - 81s - loss: 0.3668 - acc: 0.8687 - val_loss: 1.2219 - val_acc: 0.5333\n",
            "Epoch 35/100\n",
            " - 60s - loss: 0.5102 - acc: 0.8365 - val_loss: 1.4543 - val_acc: 0.5333\n",
            "Epoch 36/100\n",
            " - 74s - loss: 0.4440 - acc: 0.8182 - val_loss: 1.1546 - val_acc: 0.5333\n",
            "Epoch 37/100\n",
            " - 56s - loss: 0.7069 - acc: 0.8269 - val_loss: 1.0397 - val_acc: 0.6667\n",
            "Epoch 38/100\n",
            " - 81s - loss: 0.3778 - acc: 0.8875 - val_loss: 1.1025 - val_acc: 0.6000\n",
            "Epoch 39/100\n",
            " - 59s - loss: 0.3281 - acc: 0.8654 - val_loss: 1.0902 - val_acc: 0.6000\n",
            "Epoch 40/100\n",
            " - 72s - loss: 0.4000 - acc: 0.8864 - val_loss: 1.2589 - val_acc: 0.6000\n",
            "Epoch 41/100\n",
            " - 69s - loss: 0.4516 - acc: 0.8409 - val_loss: 1.2752 - val_acc: 0.6667\n",
            "Epoch 42/100\n",
            " - 56s - loss: 0.5496 - acc: 0.8654 - val_loss: 1.0875 - val_acc: 0.7333\n",
            "Epoch 43/100\n",
            " - 71s - loss: 0.3606 - acc: 0.8939 - val_loss: 1.1387 - val_acc: 0.6667\n",
            "Epoch 44/100\n",
            " - 72s - loss: 0.5494 - acc: 0.8864 - val_loss: 1.1827 - val_acc: 0.6667\n",
            "Epoch 45/100\n",
            " - 68s - loss: 0.4399 - acc: 0.8788 - val_loss: 1.2543 - val_acc: 0.5333\n",
            "Epoch 46/100\n",
            " - 71s - loss: 0.3996 - acc: 0.8712 - val_loss: 1.0676 - val_acc: 0.6667\n",
            "Epoch 47/100\n",
            " - 55s - loss: 0.6207 - acc: 0.8750 - val_loss: 1.0882 - val_acc: 0.6667\n",
            "Epoch 48/100\n",
            " - 68s - loss: 0.2984 - acc: 0.8939 - val_loss: 1.2227 - val_acc: 0.5333\n",
            "Epoch 49/100\n",
            " - 68s - loss: 0.4132 - acc: 0.8485 - val_loss: 1.2642 - val_acc: 0.5333\n",
            "Epoch 50/100\n",
            " - 56s - loss: 0.2580 - acc: 0.9038 - val_loss: 1.1640 - val_acc: 0.4667\n",
            "Epoch 51/100\n",
            " - 68s - loss: 0.8014 - acc: 0.8712 - val_loss: 0.8237 - val_acc: 0.7333\n",
            "Epoch 52/100\n",
            " - 75s - loss: 0.3483 - acc: 0.8636 - val_loss: 0.8334 - val_acc: 0.7333\n",
            "Epoch 53/100\n",
            " - 68s - loss: 0.3316 - acc: 0.9015 - val_loss: 1.3618 - val_acc: 0.5333\n",
            "Epoch 54/100\n",
            " - 68s - loss: 0.2331 - acc: 0.8864 - val_loss: 1.1787 - val_acc: 0.5333\n",
            "Epoch 55/100\n",
            " - 58s - loss: 0.3890 - acc: 0.8942 - val_loss: 1.0111 - val_acc: 0.6000\n",
            "Epoch 56/100\n",
            " - 68s - loss: 0.3280 - acc: 0.8788 - val_loss: 1.1955 - val_acc: 0.5333\n",
            "Epoch 57/100\n",
            " - 56s - loss: 0.4113 - acc: 0.8654 - val_loss: 1.2509 - val_acc: 0.5333\n",
            "Epoch 58/100\n",
            " - 81s - loss: 0.2742 - acc: 0.9375 - val_loss: 1.0098 - val_acc: 0.6000\n",
            "Epoch 59/100\n",
            " - 56s - loss: 0.4532 - acc: 0.8846 - val_loss: 1.1338 - val_acc: 0.6667\n",
            "Epoch 60/100\n",
            " - 70s - loss: 0.3245 - acc: 0.8788 - val_loss: 1.1735 - val_acc: 0.6000\n",
            "Epoch 61/100\n",
            " - 73s - loss: 0.7755 - acc: 0.8409 - val_loss: 0.9114 - val_acc: 0.8000\n",
            "Epoch 62/100\n",
            " - 65s - loss: 0.4849 - acc: 0.8750 - val_loss: 1.1378 - val_acc: 0.4667\n",
            "Epoch 63/100\n",
            " - 79s - loss: 0.2780 - acc: 0.9015 - val_loss: 1.1320 - val_acc: 0.5333\n",
            "Epoch 64/100\n",
            " - 77s - loss: 0.4418 - acc: 0.8788 - val_loss: 1.1536 - val_acc: 0.6000\n",
            "Epoch 65/100\n",
            " - 76s - loss: 0.3628 - acc: 0.9242 - val_loss: 0.9169 - val_acc: 0.7333\n",
            "Epoch 66/100\n",
            " - 58s - loss: 0.4035 - acc: 0.8462 - val_loss: 1.4442 - val_acc: 0.5333\n",
            "Epoch 67/100\n",
            " - 76s - loss: 0.2170 - acc: 0.9621 - val_loss: 1.0518 - val_acc: 0.6000\n",
            "Epoch 68/100\n",
            " - 75s - loss: 0.6098 - acc: 0.9167 - val_loss: 0.8337 - val_acc: 0.6000\n",
            "Epoch 69/100\n",
            " - 81s - loss: 0.3341 - acc: 0.9015 - val_loss: 1.2748 - val_acc: 0.6667\n",
            "Epoch 70/100\n",
            " - 68s - loss: 0.1497 - acc: 0.9231 - val_loss: 1.4522 - val_acc: 0.6000\n",
            "Epoch 71/100\n",
            " - 78s - loss: 0.3034 - acc: 0.9318 - val_loss: 1.1137 - val_acc: 0.6667\n",
            "Epoch 72/100\n",
            " - 75s - loss: 0.2322 - acc: 0.9167 - val_loss: 1.2210 - val_acc: 0.5333\n",
            "Epoch 73/100\n",
            " - 72s - loss: 0.2545 - acc: 0.8864 - val_loss: 1.4327 - val_acc: 0.5333\n",
            "Epoch 74/100\n",
            " - 59s - loss: 0.3328 - acc: 0.8654 - val_loss: 0.8953 - val_acc: 0.6000\n",
            "Epoch 75/100\n",
            " - 78s - loss: 0.4880 - acc: 0.8333 - val_loss: 1.1230 - val_acc: 0.7333\n",
            "Epoch 76/100\n",
            " - 72s - loss: 0.2999 - acc: 0.8939 - val_loss: 1.1421 - val_acc: 0.6667\n",
            "Epoch 77/100\n",
            " - 71s - loss: 0.2947 - acc: 0.9167 - val_loss: 1.1378 - val_acc: 0.5333\n",
            "Epoch 78/100\n",
            " - 61s - loss: 0.3708 - acc: 0.8846 - val_loss: 1.0679 - val_acc: 0.7333\n",
            "Epoch 79/100\n",
            " - 88s - loss: 0.1873 - acc: 0.9250 - val_loss: 0.8460 - val_acc: 0.6667\n",
            "Epoch 80/100\n",
            " - 74s - loss: 0.6516 - acc: 0.8654 - val_loss: 1.2639 - val_acc: 0.6667\n",
            "Epoch 81/100\n",
            " - 68s - loss: 0.4048 - acc: 0.8942 - val_loss: 1.6376 - val_acc: 0.4667\n",
            "Epoch 82/100\n",
            " - 95s - loss: 0.1491 - acc: 0.9563 - val_loss: 1.5238 - val_acc: 0.5333\n",
            "Epoch 83/100\n",
            " - 80s - loss: 0.4438 - acc: 0.8712 - val_loss: 1.1230 - val_acc: 0.6667\n",
            "Epoch 84/100\n",
            " - 64s - loss: 0.5304 - acc: 0.9038 - val_loss: 1.3561 - val_acc: 0.6000\n",
            "Epoch 85/100\n",
            " - 67s - loss: 0.6362 - acc: 0.8846 - val_loss: 0.9164 - val_acc: 0.7333\n",
            "Epoch 86/100\n",
            " - 90s - loss: 0.1898 - acc: 0.9438 - val_loss: 0.9001 - val_acc: 0.5333\n",
            "Epoch 87/100\n",
            " - 77s - loss: 0.1981 - acc: 0.9167 - val_loss: 2.1282 - val_acc: 0.4667\n",
            "Epoch 88/100\n",
            " - 70s - loss: 0.1686 - acc: 0.9327 - val_loss: 1.4509 - val_acc: 0.6667\n",
            "Epoch 89/100\n",
            " - 67s - loss: 0.5981 - acc: 0.9038 - val_loss: 1.3270 - val_acc: 0.6667\n",
            "Epoch 90/100\n",
            " - 88s - loss: 0.2179 - acc: 0.9312 - val_loss: 1.1973 - val_acc: 0.6667\n",
            "Epoch 91/100\n",
            " - 61s - loss: 0.3305 - acc: 0.9615 - val_loss: 1.2162 - val_acc: 0.6000\n",
            "Epoch 92/100\n",
            " - 83s - loss: 0.2200 - acc: 0.9242 - val_loss: 0.9632 - val_acc: 0.6000\n",
            "Epoch 93/100\n",
            " - 75s - loss: 0.2113 - acc: 0.9545 - val_loss: 1.6127 - val_acc: 0.5333\n",
            "Epoch 94/100\n",
            " - 67s - loss: 0.2869 - acc: 0.9327 - val_loss: 1.1272 - val_acc: 0.5333\n",
            "Epoch 95/100\n",
            " - 78s - loss: 0.4778 - acc: 0.8561 - val_loss: 1.8004 - val_acc: 0.6000\n",
            "Epoch 96/100\n",
            " - 82s - loss: 0.3548 - acc: 0.9091 - val_loss: 1.0656 - val_acc: 0.5333\n",
            "Epoch 97/100\n",
            " - 79s - loss: 0.2079 - acc: 0.9394 - val_loss: 0.9813 - val_acc: 0.7333\n",
            "Epoch 98/100\n",
            " - 67s - loss: 0.3181 - acc: 0.9038 - val_loss: 0.7260 - val_acc: 0.8000\n",
            "Epoch 99/100\n",
            " - 75s - loss: 0.4084 - acc: 0.9242 - val_loss: 1.3759 - val_acc: 0.6667\n",
            "Epoch 100/100\n",
            " - 76s - loss: 0.3815 - acc: 0.9167 - val_loss: 1.1885 - val_acc: 0.6667\n"
          ],
          "name": "stdout"
        }
      ]
    },
    {
      "cell_type": "code",
      "metadata": {
        "ExecuteTime": {
          "end_time": "2019-11-07T18:27:04.512168Z",
          "start_time": "2019-11-07T18:27:03.910210Z"
        },
        "colab_type": "code",
        "id": "qF0BLOo3moe1",
        "colab": {
          "base_uri": "https://localhost:8080/",
          "height": 208
        },
        "outputId": "84ef6ec6-3845-4d69-a56a-0eaf1b76b9c6"
      },
      "source": [
        "import numpy as np\n",
        "test_imgs, test_labels = next(test_batches)\n",
        "print(test_labels)\n",
        "y_test= [ np.where(r==1)[0][0] for r in test_labels ]\n",
        "y_test"
      ],
      "execution_count": null,
      "outputs": [
        {
          "output_type": "stream",
          "text": [
            "[[0. 0. 1. 0. 0.]\n",
            " [0. 0. 0. 1. 0.]\n",
            " [0. 0. 0. 1. 0.]\n",
            " [0. 0. 0. 0. 1.]\n",
            " [0. 1. 0. 0. 0.]\n",
            " [0. 0. 1. 0. 0.]\n",
            " [0. 0. 0. 0. 1.]\n",
            " [0. 1. 0. 0. 0.]\n",
            " [1. 0. 0. 0. 0.]\n",
            " [1. 0. 0. 0. 0.]]\n"
          ],
          "name": "stdout"
        },
        {
          "output_type": "execute_result",
          "data": {
            "text/plain": [
              "[2, 3, 3, 4, 1, 2, 4, 1, 0, 0]"
            ]
          },
          "metadata": {
            "tags": []
          },
          "execution_count": 11
        }
      ]
    },
    {
      "cell_type": "code",
      "metadata": {
        "ExecuteTime": {
          "end_time": "2019-11-07T18:27:11.366151Z",
          "start_time": "2019-11-07T18:27:06.907596Z"
        },
        "colab_type": "code",
        "id": "Yy8-0FQgVFrI",
        "colab": {}
      },
      "source": [
        "p = model_new.predict(test_imgs)"
      ],
      "execution_count": null,
      "outputs": []
    },
    {
      "cell_type": "code",
      "metadata": {
        "ExecuteTime": {
          "end_time": "2019-11-07T18:27:11.375613Z",
          "start_time": "2019-11-07T18:27:11.369127Z"
        },
        "colab_type": "code",
        "id": "9agaOQyal6vD",
        "colab": {
          "base_uri": "https://localhost:8080/",
          "height": 34
        },
        "outputId": "1805fc95-4f5c-409b-be19-8e915d5ae841"
      },
      "source": [
        "p.argmax(axis=1)"
      ],
      "execution_count": null,
      "outputs": [
        {
          "output_type": "execute_result",
          "data": {
            "text/plain": [
              "array([2, 3, 4, 4, 1, 2, 4, 1, 0, 0], dtype=int64)"
            ]
          },
          "metadata": {
            "tags": []
          },
          "execution_count": 13
        }
      ]
    },
    {
      "cell_type": "code",
      "metadata": {
        "ExecuteTime": {
          "end_time": "2019-11-07T18:27:11.393436Z",
          "start_time": "2019-11-07T18:27:11.383512Z"
        },
        "colab_type": "code",
        "id": "XNcbyb7VnG9a",
        "colab": {
          "base_uri": "https://localhost:8080/",
          "height": 34
        },
        "outputId": "be02a609-5dcb-4e2c-bc2a-7d7854d22013"
      },
      "source": [
        "sum(p.argmax(axis=1) == y_test)/10*100"
      ],
      "execution_count": null,
      "outputs": [
        {
          "output_type": "execute_result",
          "data": {
            "text/plain": [
              "90.0"
            ]
          },
          "metadata": {
            "tags": []
          },
          "execution_count": 14
        }
      ]
    },
    {
      "cell_type": "code",
      "metadata": {
        "colab_type": "code",
        "id": "pXuZ7AgUqLcD",
        "colab": {}
      },
      "source": [
        ""
      ],
      "execution_count": null,
      "outputs": []
    }
  ]
}